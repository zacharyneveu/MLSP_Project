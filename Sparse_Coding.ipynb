{
 "cells": [
  {
   "cell_type": "markdown",
   "metadata": {
    "Collapsed": "false"
   },
   "source": [
    "# Sparse Coding from Scratch\n",
    "Reference: P. O. Hoyer, “Non-negative sparse coding,” in Proceedings of the 12th IEEE Workshop on Neural Networks for Signal Processing, Martigny, Switzerland, 2002, pp. 557–565."
   ]
  },
  {
   "cell_type": "code",
   "execution_count": 1,
   "metadata": {
    "Collapsed": "false"
   },
   "outputs": [],
   "source": [
    "using Revise"
   ]
  },
  {
   "cell_type": "code",
   "execution_count": 2,
   "metadata": {
    "Collapsed": "false"
   },
   "outputs": [
    {
     "name": "stderr",
     "output_type": "stream",
     "text": [
      "┌ Info: Precompiling Plots [91a5bcdd-55d7-5caf-9e0b-520d859cae80]\n",
      "└ @ Base loading.jl:1252\n"
     ]
    }
   ],
   "source": [
    "using WAV\n",
    "using LinearAlgebra\n",
    "import Plots\n",
    "using PyCall\n",
    "using FFTW\n",
    "using DSP\n",
    "using LaTeXStrings\n",
    "using Distributions"
   ]
  },
  {
   "cell_type": "code",
   "execution_count": 61,
   "metadata": {
    "Collapsed": "false"
   },
   "outputs": [],
   "source": [
    "Plots.theme(:gruvbox_light)"
   ]
  },
  {
   "cell_type": "markdown",
   "metadata": {
    "Collapsed": "false"
   },
   "source": [
    "$ \\mathbf{X} = \\mathbf{DZ} $"
   ]
  },
  {
   "cell_type": "markdown",
   "metadata": {
    "Collapsed": "false"
   },
   "source": [
    "## Test Data"
   ]
  },
  {
   "cell_type": "code",
   "execution_count": 4,
   "metadata": {
    "Collapsed": "false"
   },
   "outputs": [
    {
     "data": {
      "text/plain": [
       "5×3 Adjoint{Int64,Array{Int64,2}}:\n",
       " 1  1  0\n",
       " 1  0  1\n",
       " 1  1  0\n",
       " 1  0  1\n",
       " 1  1  0"
      ]
     },
     "execution_count": 4,
     "metadata": {},
     "output_type": "execute_result"
    }
   ],
   "source": [
    "D = [1 1 1 1 1; 1 0 1 0 1; 0 1 0 1 0]'"
   ]
  },
  {
   "cell_type": "code",
   "execution_count": 5,
   "metadata": {
    "Collapsed": "false"
   },
   "outputs": [
    {
     "data": {
      "text/plain": [
       "5×1 Array{Float64,2}:\n",
       " 0.1\n",
       " 0.0\n",
       " 0.1\n",
       " 0.0\n",
       " 0.1"
      ]
     },
     "execution_count": 5,
     "metadata": {},
     "output_type": "execute_result"
    }
   ],
   "source": [
    "Ztrue = [0 0.1 0]'\n",
    "X = D * Ztrue"
   ]
  },
  {
   "cell_type": "markdown",
   "metadata": {
    "Collapsed": "false"
   },
   "source": [
    "## Learn Z"
   ]
  },
  {
   "cell_type": "code",
   "execution_count": 6,
   "metadata": {
    "Collapsed": "false"
   },
   "outputs": [
    {
     "data": {
      "text/plain": [
       "step! (generic function with 2 methods)"
      ]
     },
     "execution_count": 6,
     "metadata": {},
     "output_type": "execute_result"
    }
   ],
   "source": [
    "function step(X, D, Z, λ=0.0001)\n",
    "    return Z .* (D'*X) ./ (D'*D*Z .+ λ)\n",
    "end\n",
    "\n",
    "function step!(X, D, Z, λ=0.0001)\n",
    "    Z = Z .* (D'*X) ./ (D'*D*Z .+ λ)\n",
    "end"
   ]
  },
  {
   "cell_type": "code",
   "execution_count": 65,
   "metadata": {
    "Collapsed": "false"
   },
   "outputs": [
    {
     "data": {
      "image/svg+xml": [
       "<?xml version=\"1.0\" encoding=\"utf-8\"?>\n",
       "<svg xmlns=\"http://www.w3.org/2000/svg\" xmlns:xlink=\"http://www.w3.org/1999/xlink\" width=\"600\" height=\"400\" viewBox=\"0 0 2400 1600\">\n",
       "<defs>\n",
       "  <clipPath id=\"clip4800\">\n",
       "    <rect x=\"0\" y=\"0\" width=\"2400\" height=\"1600\"/>\n",
       "  </clipPath>\n",
       "</defs>\n",
       "<path clip-path=\"url(#clip4800)\" d=\"\n",
       "M0 1600 L2400 1600 L2400 0 L0 0  Z\n",
       "  \" fill=\"#ebdbb2\" fill-rule=\"evenodd\" fill-opacity=\"1\"/>\n",
       "<defs>\n",
       "  <clipPath id=\"clip4801\">\n",
       "    <rect x=\"480\" y=\"0\" width=\"1681\" height=\"1600\"/>\n",
       "  </clipPath>\n",
       "</defs>\n",
       "<path clip-path=\"url(#clip4800)\" d=\"\n",
       "M153.898 1487.47 L2352.76 1487.47 L2352.76 121.675 L153.898 121.675  Z\n",
       "  \" fill=\"#fdf4c1\" fill-rule=\"evenodd\" fill-opacity=\"1\"/>\n",
       "<defs>\n",
       "  <clipPath id=\"clip4802\">\n",
       "    <rect x=\"153\" y=\"121\" width=\"2200\" height=\"1367\"/>\n",
       "  </clipPath>\n",
       "</defs>\n",
       "<polyline clip-path=\"url(#clip4802)\" style=\"stroke:#3c3836; stroke-width:2; stroke-opacity:0.1; fill:none\" points=\"\n",
       "  195.176,1487.47 195.176,121.675 \n",
       "  \"/>\n",
       "<polyline clip-path=\"url(#clip4802)\" style=\"stroke:#3c3836; stroke-width:2; stroke-opacity:0.1; fill:none\" points=\"\n",
       "  719.013,1487.47 719.013,121.675 \n",
       "  \"/>\n",
       "<polyline clip-path=\"url(#clip4802)\" style=\"stroke:#3c3836; stroke-width:2; stroke-opacity:0.1; fill:none\" points=\"\n",
       "  1242.85,1487.47 1242.85,121.675 \n",
       "  \"/>\n",
       "<polyline clip-path=\"url(#clip4802)\" style=\"stroke:#3c3836; stroke-width:2; stroke-opacity:0.1; fill:none\" points=\"\n",
       "  1766.69,1487.47 1766.69,121.675 \n",
       "  \"/>\n",
       "<polyline clip-path=\"url(#clip4802)\" style=\"stroke:#3c3836; stroke-width:2; stroke-opacity:0.1; fill:none\" points=\"\n",
       "  2290.52,1487.47 2290.52,121.675 \n",
       "  \"/>\n",
       "<polyline clip-path=\"url(#clip4802)\" style=\"stroke:#3c3836; stroke-width:2; stroke-opacity:0.1; fill:none\" points=\"\n",
       "  153.898,1328.69 2352.76,1328.69 \n",
       "  \"/>\n",
       "<polyline clip-path=\"url(#clip4802)\" style=\"stroke:#3c3836; stroke-width:2; stroke-opacity:0.1; fill:none\" points=\"\n",
       "  153.898,1143.49 2352.76,1143.49 \n",
       "  \"/>\n",
       "<polyline clip-path=\"url(#clip4802)\" style=\"stroke:#3c3836; stroke-width:2; stroke-opacity:0.1; fill:none\" points=\"\n",
       "  153.898,958.288 2352.76,958.288 \n",
       "  \"/>\n",
       "<polyline clip-path=\"url(#clip4802)\" style=\"stroke:#3c3836; stroke-width:2; stroke-opacity:0.1; fill:none\" points=\"\n",
       "  153.898,773.085 2352.76,773.085 \n",
       "  \"/>\n",
       "<polyline clip-path=\"url(#clip4802)\" style=\"stroke:#3c3836; stroke-width:2; stroke-opacity:0.1; fill:none\" points=\"\n",
       "  153.898,587.882 2352.76,587.882 \n",
       "  \"/>\n",
       "<polyline clip-path=\"url(#clip4802)\" style=\"stroke:#3c3836; stroke-width:2; stroke-opacity:0.1; fill:none\" points=\"\n",
       "  153.898,402.679 2352.76,402.679 \n",
       "  \"/>\n",
       "<polyline clip-path=\"url(#clip4802)\" style=\"stroke:#3c3836; stroke-width:2; stroke-opacity:0.1; fill:none\" points=\"\n",
       "  153.898,217.476 2352.76,217.476 \n",
       "  \"/>\n",
       "<polyline clip-path=\"url(#clip4800)\" style=\"stroke:#3c3836; stroke-width:4; stroke-opacity:1; fill:none\" points=\"\n",
       "  153.898,1487.47 2352.76,1487.47 \n",
       "  \"/>\n",
       "<polyline clip-path=\"url(#clip4800)\" style=\"stroke:#3c3836; stroke-width:4; stroke-opacity:1; fill:none\" points=\"\n",
       "  153.898,1487.47 153.898,121.675 \n",
       "  \"/>\n",
       "<polyline clip-path=\"url(#clip4800)\" style=\"stroke:#3c3836; stroke-width:4; stroke-opacity:1; fill:none\" points=\"\n",
       "  195.176,1487.47 195.176,1466.99 \n",
       "  \"/>\n",
       "<polyline clip-path=\"url(#clip4800)\" style=\"stroke:#3c3836; stroke-width:4; stroke-opacity:1; fill:none\" points=\"\n",
       "  719.013,1487.47 719.013,1466.99 \n",
       "  \"/>\n",
       "<polyline clip-path=\"url(#clip4800)\" style=\"stroke:#3c3836; stroke-width:4; stroke-opacity:1; fill:none\" points=\"\n",
       "  1242.85,1487.47 1242.85,1466.99 \n",
       "  \"/>\n",
       "<polyline clip-path=\"url(#clip4800)\" style=\"stroke:#3c3836; stroke-width:4; stroke-opacity:1; fill:none\" points=\"\n",
       "  1766.69,1487.47 1766.69,1466.99 \n",
       "  \"/>\n",
       "<polyline clip-path=\"url(#clip4800)\" style=\"stroke:#3c3836; stroke-width:4; stroke-opacity:1; fill:none\" points=\"\n",
       "  2290.52,1487.47 2290.52,1466.99 \n",
       "  \"/>\n",
       "<polyline clip-path=\"url(#clip4800)\" style=\"stroke:#3c3836; stroke-width:4; stroke-opacity:1; fill:none\" points=\"\n",
       "  153.898,1328.69 186.881,1328.69 \n",
       "  \"/>\n",
       "<polyline clip-path=\"url(#clip4800)\" style=\"stroke:#3c3836; stroke-width:4; stroke-opacity:1; fill:none\" points=\"\n",
       "  153.898,1143.49 186.881,1143.49 \n",
       "  \"/>\n",
       "<polyline clip-path=\"url(#clip4800)\" style=\"stroke:#3c3836; stroke-width:4; stroke-opacity:1; fill:none\" points=\"\n",
       "  153.898,958.288 186.881,958.288 \n",
       "  \"/>\n",
       "<polyline clip-path=\"url(#clip4800)\" style=\"stroke:#3c3836; stroke-width:4; stroke-opacity:1; fill:none\" points=\"\n",
       "  153.898,773.085 186.881,773.085 \n",
       "  \"/>\n",
       "<polyline clip-path=\"url(#clip4800)\" style=\"stroke:#3c3836; stroke-width:4; stroke-opacity:1; fill:none\" points=\"\n",
       "  153.898,587.882 186.881,587.882 \n",
       "  \"/>\n",
       "<polyline clip-path=\"url(#clip4800)\" style=\"stroke:#3c3836; stroke-width:4; stroke-opacity:1; fill:none\" points=\"\n",
       "  153.898,402.679 186.881,402.679 \n",
       "  \"/>\n",
       "<polyline clip-path=\"url(#clip4800)\" style=\"stroke:#3c3836; stroke-width:4; stroke-opacity:1; fill:none\" points=\"\n",
       "  153.898,217.476 186.881,217.476 \n",
       "  \"/>\n",
       "<g clip-path=\"url(#clip4800)\">\n",
       "<text style=\"fill:#3c3c3c; fill-opacity:1; font-family:Arial,Helvetica Neue,Helvetica,sans-serif; font-size:48px; text-anchor:middle;\" transform=\"rotate(0, 195.176, 1541.47)\" x=\"195.176\" y=\"1541.47\">0</text>\n",
       "</g>\n",
       "<g clip-path=\"url(#clip4800)\">\n",
       "<text style=\"fill:#3c3c3c; fill-opacity:1; font-family:Arial,Helvetica Neue,Helvetica,sans-serif; font-size:48px; text-anchor:middle;\" transform=\"rotate(0, 719.013, 1541.47)\" x=\"719.013\" y=\"1541.47\">25</text>\n",
       "</g>\n",
       "<g clip-path=\"url(#clip4800)\">\n",
       "<text style=\"fill:#3c3c3c; fill-opacity:1; font-family:Arial,Helvetica Neue,Helvetica,sans-serif; font-size:48px; text-anchor:middle;\" transform=\"rotate(0, 1242.85, 1541.47)\" x=\"1242.85\" y=\"1541.47\">50</text>\n",
       "</g>\n",
       "<g clip-path=\"url(#clip4800)\">\n",
       "<text style=\"fill:#3c3c3c; fill-opacity:1; font-family:Arial,Helvetica Neue,Helvetica,sans-serif; font-size:48px; text-anchor:middle;\" transform=\"rotate(0, 1766.69, 1541.47)\" x=\"1766.69\" y=\"1541.47\">75</text>\n",
       "</g>\n",
       "<g clip-path=\"url(#clip4800)\">\n",
       "<text style=\"fill:#3c3c3c; fill-opacity:1; font-family:Arial,Helvetica Neue,Helvetica,sans-serif; font-size:48px; text-anchor:middle;\" transform=\"rotate(0, 2290.52, 1541.47)\" x=\"2290.52\" y=\"1541.47\">100</text>\n",
       "</g>\n",
       "<g clip-path=\"url(#clip4800)\">\n",
       "<text style=\"fill:#3c3c3c; fill-opacity:1; font-family:Arial,Helvetica Neue,Helvetica,sans-serif; font-size:48px; text-anchor:end;\" transform=\"rotate(0, 129.898, 1346.19)\" x=\"129.898\" y=\"1346.19\">0.1</text>\n",
       "</g>\n",
       "<g clip-path=\"url(#clip4800)\">\n",
       "<text style=\"fill:#3c3c3c; fill-opacity:1; font-family:Arial,Helvetica Neue,Helvetica,sans-serif; font-size:48px; text-anchor:end;\" transform=\"rotate(0, 129.898, 1160.99)\" x=\"129.898\" y=\"1160.99\">0.2</text>\n",
       "</g>\n",
       "<g clip-path=\"url(#clip4800)\">\n",
       "<text style=\"fill:#3c3c3c; fill-opacity:1; font-family:Arial,Helvetica Neue,Helvetica,sans-serif; font-size:48px; text-anchor:end;\" transform=\"rotate(0, 129.898, 975.788)\" x=\"129.898\" y=\"975.788\">0.3</text>\n",
       "</g>\n",
       "<g clip-path=\"url(#clip4800)\">\n",
       "<text style=\"fill:#3c3c3c; fill-opacity:1; font-family:Arial,Helvetica Neue,Helvetica,sans-serif; font-size:48px; text-anchor:end;\" transform=\"rotate(0, 129.898, 790.585)\" x=\"129.898\" y=\"790.585\">0.4</text>\n",
       "</g>\n",
       "<g clip-path=\"url(#clip4800)\">\n",
       "<text style=\"fill:#3c3c3c; fill-opacity:1; font-family:Arial,Helvetica Neue,Helvetica,sans-serif; font-size:48px; text-anchor:end;\" transform=\"rotate(0, 129.898, 605.382)\" x=\"129.898\" y=\"605.382\">0.5</text>\n",
       "</g>\n",
       "<g clip-path=\"url(#clip4800)\">\n",
       "<text style=\"fill:#3c3c3c; fill-opacity:1; font-family:Arial,Helvetica Neue,Helvetica,sans-serif; font-size:48px; text-anchor:end;\" transform=\"rotate(0, 129.898, 420.179)\" x=\"129.898\" y=\"420.179\">0.6</text>\n",
       "</g>\n",
       "<g clip-path=\"url(#clip4800)\">\n",
       "<text style=\"fill:#3c3c3c; fill-opacity:1; font-family:Arial,Helvetica Neue,Helvetica,sans-serif; font-size:48px; text-anchor:end;\" transform=\"rotate(0, 129.898, 234.976)\" x=\"129.898\" y=\"234.976\">0.7</text>\n",
       "</g>\n",
       "<g clip-path=\"url(#clip4800)\">\n",
       "<text style=\"fill:#3c3c3c; fill-opacity:1; font-family:Arial,Helvetica Neue,Helvetica,sans-serif; font-size:84px; text-anchor:middle;\" transform=\"rotate(0, 1253.33, 73.2)\" x=\"1253.33\" y=\"73.2\">Norm of Zhat-Z vs. Steps</text>\n",
       "</g>\n",
       "<polyline clip-path=\"url(#clip4802)\" style=\"stroke:#79740e; stroke-width:4; stroke-opacity:1; fill:none\" points=\"\n",
       "  216.13,1223.58 237.083,1279.39 258.037,1275.03 278.99,1255.39 299.944,1208.21 320.897,1028.54 341.851,160.33 362.804,1367.92 383.758,1373.55 404.711,1379.22 \n",
       "  425.665,1385.42 446.618,1391.51 467.572,1397.2 488.525,1402.34 509.478,1406.92 530.432,1410.95 551.385,1414.49 572.339,1417.6 593.292,1420.33 614.246,1422.73 \n",
       "  635.199,1424.85 656.153,1426.73 677.106,1428.4 698.06,1429.89 719.013,1431.22 739.967,1432.42 760.92,1433.51 781.874,1434.49 802.827,1435.38 823.781,1436.2 \n",
       "  844.734,1436.94 865.688,1437.63 886.641,1438.26 907.595,1438.84 928.548,1439.38 949.502,1439.88 970.455,1440.34 991.408,1440.77 1012.36,1441.18 1033.32,1441.55 \n",
       "  1054.27,1441.91 1075.22,1442.24 1096.18,1442.55 1117.13,1442.85 1138.08,1443.12 1159.04,1443.39 1179.99,1443.63 1200.94,1443.87 1221.9,1444.09 1242.85,1444.3 \n",
       "  1263.8,1444.5 1284.76,1444.7 1305.71,1444.88 1326.66,1445.05 1347.62,1445.22 1368.57,1445.38 1389.52,1445.53 1410.48,1445.68 1431.43,1445.82 1452.38,1445.95 \n",
       "  1473.34,1446.08 1494.29,1446.2 1515.25,1446.32 1536.2,1446.43 1557.15,1446.54 1578.11,1446.65 1599.06,1446.75 1620.01,1446.85 1640.97,1446.95 1661.92,1447.04 \n",
       "  1682.87,1447.13 1703.83,1447.21 1724.78,1447.29 1745.73,1447.37 1766.69,1447.45 1787.64,1447.53 1808.59,1447.6 1829.55,1447.67 1850.5,1447.74 1871.45,1447.81 \n",
       "  1892.41,1447.87 1913.36,1447.93 1934.31,1448 1955.27,1448.05 1976.22,1448.11 1997.18,1448.17 2018.13,1448.22 2039.08,1448.28 2060.04,1448.33 2080.99,1448.38 \n",
       "  2101.94,1448.43 2122.9,1448.48 2143.85,1448.52 2164.8,1448.57 2185.76,1448.61 2206.71,1448.66 2227.66,1448.7 2248.62,1448.74 2269.57,1448.78 2290.52,1448.82 \n",
       "  \n",
       "  \"/>\n",
       "<path clip-path=\"url(#clip4800)\" d=\"\n",
       "M1989.93 326.155 L2280.76 326.155 L2280.76 205.195 L1989.93 205.195  Z\n",
       "  \" fill=\"#ebdbb2\" fill-rule=\"evenodd\" fill-opacity=\"1\"/>\n",
       "<polyline clip-path=\"url(#clip4800)\" style=\"stroke:#3c3836; stroke-width:4; stroke-opacity:1; fill:none\" points=\"\n",
       "  1989.93,326.155 2280.76,326.155 2280.76,205.195 1989.93,205.195 1989.93,326.155 \n",
       "  \"/>\n",
       "<polyline clip-path=\"url(#clip4800)\" style=\"stroke:#79740e; stroke-width:4; stroke-opacity:1; fill:none\" points=\"\n",
       "  2013.93,265.675 2157.93,265.675 \n",
       "  \"/>\n",
       "<g clip-path=\"url(#clip4800)\">\n",
       "<text style=\"fill:#3c3c3c; fill-opacity:1; font-family:Arial,Helvetica Neue,Helvetica,sans-serif; font-size:48px; text-anchor:start;\" transform=\"rotate(0, 2181.93, 283.175)\" x=\"2181.93\" y=\"283.175\">y1</text>\n",
       "</g>\n",
       "</svg>\n"
      ]
     },
     "execution_count": 65,
     "metadata": {},
     "output_type": "execute_result"
    }
   ],
   "source": [
    "norms = []\n",
    "Z̃ = randn(size(Ztrue));\n",
    "for i in 1:100\n",
    "    Z̃ = step(X, D, Z̃, 1e-1)\n",
    "    push!(norms, norm(Z̃-Ztrue))\n",
    "end\n",
    "Plots.plot(norms, title=\"Norm of Zhat-Z vs. Steps\")"
   ]
  },
  {
   "cell_type": "markdown",
   "metadata": {
    "Collapsed": "false"
   },
   "source": [
    "## Learn D"
   ]
  },
  {
   "cell_type": "code",
   "execution_count": 58,
   "metadata": {
    "Collapsed": "false"
   },
   "outputs": [
    {
     "data": {
      "text/plain": [
       "stepd (generic function with 2 methods)"
      ]
     },
     "execution_count": 58,
     "metadata": {},
     "output_type": "execute_result"
    }
   ],
   "source": [
    "function stepd(X, D, Z, μ=1e-4)\n",
    "    D̃ = D - μ*(D*Z-X)*(Z)'\n",
    "    ∞ = typemax(typeof(D̃[1,1]))\n",
    "    clamp!(D̃, 0, ∞)\n",
    "    return D̃ ./ sum(D̃, dims=1)\n",
    "end"
   ]
  },
  {
   "cell_type": "code",
   "execution_count": 59,
   "metadata": {
    "Collapsed": "false"
   },
   "outputs": [
    {
     "data": {
      "text/plain": [
       "5×3 Array{Float64,2}:\n",
       " 0.140636  0.302064   0.2298\n",
       " 0.205014  0.0763819  0.292263\n",
       " 0.202100  0.303796   0.0522607\n",
       " 0.322455  0.110416   0.35902\n",
       " 0.129795  0.207342   0.066656"
      ]
     },
     "execution_count": 59,
     "metadata": {},
     "output_type": "execute_result"
    }
   ],
   "source": [
    "stepd(X, D̃, Ztrue)"
   ]
  },
  {
   "cell_type": "code",
   "execution_count": 60,
   "metadata": {
    "Collapsed": "false"
   },
   "outputs": [
    {
     "ename": "UndefVarError",
     "evalue": "UndefVarError: plot not defined",
     "output_type": "error",
     "traceback": [
      "UndefVarError: plot not defined",
      "",
      "Stacktrace:",
      " [1] top-level scope at In[60]:12"
     ]
    }
   ],
   "source": [
    "DNorms = []\n",
    "ZNorms = []\n",
    "D̃ = rand(Uniform(0, 1), (5,3));\n",
    "Z̃ = rand(Uniform(0, 1), size(D, 2));\n",
    "\n",
    "for i=1:100\n",
    "    D̃ = stepd(X, D̃, Z̃, 1e-4)\n",
    "    Z̃ = step(X, D̃, Z̃, 1e-4)\n",
    "    push!(DNorms, norm(D̃-D))\n",
    "    push!(ZNorms, norm(Z̃-Ztrue))\n",
    "end\n",
    "\n",
    "plot(DNorms./maximum(DNorms), lab=\"D norms\")\n",
    "plot!(ZNorms./maximum(ZNorms), lab=\"Z norms\")"
   ]
  },
  {
   "cell_type": "markdown",
   "metadata": {
    "Collapsed": "false"
   },
   "source": [
    "$\\mu$"
   ]
  },
  {
   "cell_type": "code",
   "execution_count": null,
   "metadata": {
    "Collapsed": "false"
   },
   "outputs": [],
   "source": []
  }
 ],
 "metadata": {
  "kernelspec": {
   "display_name": "Julia 1.4.0-DEV",
   "language": "julia",
   "name": "julia-1.4"
  },
  "language_info": {
   "file_extension": ".jl",
   "mimetype": "application/julia",
   "name": "julia",
   "version": "1.4.0"
  },
  "widgets": {
   "application/vnd.jupyter.widget-state+json": {
    "state": {},
    "version_major": 2,
    "version_minor": 0
   }
  }
 },
 "nbformat": 4,
 "nbformat_minor": 4
}
