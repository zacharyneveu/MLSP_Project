{
 "cells": [
  {
   "cell_type": "code",
   "execution_count": 1,
   "metadata": {
    "Collapsed": "false"
   },
   "outputs": [],
   "source": [
    "using SparseArrays"
   ]
  },
  {
   "cell_type": "code",
   "execution_count": 4,
   "metadata": {
    "Collapsed": "false"
   },
   "outputs": [
    {
     "data": {
      "text/plain": [
       "10×10 SparseMatrixCSC{Float64,Int64} with 51 stored entries:\n",
       "  [1 ,  1]  =  0.785661\n",
       "  [2 ,  1]  =  0.481696\n",
       "  [5 ,  1]  =  0.132278\n",
       "  [6 ,  1]  =  0.162710\n",
       "  [9 ,  1]  =  0.433411\n",
       "  [1 ,  2]  =  0.20967\n",
       "  [3 ,  2]  =  0.918646\n",
       "  [5 ,  2]  =  0.738618\n",
       "  [7 ,  2]  =  0.107042\n",
       "  [8 ,  2]  =  0.213469\n",
       "  [3 ,  3]  =  0.754223\n",
       "  [6 ,  3]  =  0.835063\n",
       "  ⋮\n",
       "  [9 ,  8]  =  0.0716528\n",
       "  [10,  8]  =  0.974644\n",
       "  [4 ,  9]  =  0.69137\n",
       "  [5 ,  9]  =  0.0622863\n",
       "  [7 ,  9]  =  0.451766\n",
       "  [8 ,  9]  =  0.0503620\n",
       "  [9 ,  9]  =  0.687730\n",
       "  [10,  9]  =  0.645357\n",
       "  [1 , 10]  =  0.852506\n",
       "  [6 , 10]  =  0.606341\n",
       "  [7 , 10]  =  0.916640\n",
       "  [8 , 10]  =  0.0393753\n",
       "  [10, 10]  =  0.602821"
      ]
     },
     "execution_count": 4,
     "metadata": {},
     "output_type": "execute_result"
    }
   ],
   "source": [
    "x = sprand(10, 10, 0.5)"
   ]
  },
  {
   "cell_type": "code",
   "execution_count": 10,
   "metadata": {
    "Collapsed": "false"
   },
   "outputs": [
    {
     "data": {
      "text/plain": [
       "3×10 SparseMatrixCSC{Float64,Int64} with 30 stored entries:\n",
       "  [1,  1]  =  0.785661\n",
       "  [2,  1]  =  0.481696\n",
       "  [3,  1]  =  0.433411\n",
       "  [1,  2]  =  0.918646\n",
       "  [2,  2]  =  0.738618\n",
       "  [3,  2]  =  0.213469\n",
       "  [1,  3]  =  0.880077\n",
       "  [2,  3]  =  0.835063\n",
       "  [3,  3]  =  0.754223\n",
       "  [1,  4]  =  0.87109\n",
       "  [2,  4]  =  0.767706\n",
       "  [3,  4]  =  0.438367\n",
       "  ⋮\n",
       "  [3,  6]  =  0.00508198\n",
       "  [1,  7]  =  0.80281\n",
       "  [2,  7]  =  0.685766\n",
       "  [3,  7]  =  0.458662\n",
       "  [1,  8]  =  0.974644\n",
       "  [2,  8]  =  0.691467\n",
       "  [3,  8]  =  0.478873\n",
       "  [1,  9]  =  0.69137\n",
       "  [2,  9]  =  0.687730\n",
       "  [3,  9]  =  0.645357\n",
       "  [1, 10]  =  0.916640\n",
       "  [2, 10]  =  0.852506\n",
       "  [3, 10]  =  0.606341"
      ]
     },
     "execution_count": 10,
     "metadata": {},
     "output_type": "execute_result"
    }
   ],
   "source": [
    "sort(x, rev=true, dims=1)[1:3,:]"
   ]
  },
  {
   "cell_type": "code",
   "execution_count": 25,
   "metadata": {
    "Collapsed": "false"
   },
   "outputs": [
    {
     "data": {
      "text/plain": [
       "sptopk (generic function with 1 method)"
      ]
     },
     "execution_count": 25,
     "metadata": {},
     "output_type": "execute_result"
    }
   ],
   "source": [
    "sptopk(x::SparseMatrixCSC, k::Int) = spzeros(size(x,1),size(x,2)) + sort(x, rev=true, dims=1)[1:k,:]"
   ]
  },
  {
   "cell_type": "code",
   "execution_count": 32,
   "metadata": {
    "Collapsed": "false"
   },
   "outputs": [
    {
     "ename": "MethodError",
     "evalue": "MethodError: no method matching zero(::Type{SubArray{Float64,1,SparseMatrixCSC{Float64,Int64},Tuple{Base.Slice{Base.OneTo{Int64}},Int64},false}})\nClosest candidates are:\n  zero(!Matched::Type{Missing}) at missing.jl:103\n  zero(!Matched::Type{LibGit2.GitHash}) at /home/zach/Documents/github/julia/usr/share/julia/stdlib/v1.4/LibGit2/src/oid.jl:220\n  zero(!Matched::Type{Pkg.Resolve.VersionWeights.VersionWeight}) at /home/zach/Documents/github/julia/usr/share/julia/stdlib/v1.4/Pkg/src/resolve/VersionWeights.jl:19\n  ...",
     "output_type": "error",
     "traceback": [
      "MethodError: no method matching zero(::Type{SubArray{Float64,1,SparseMatrixCSC{Float64,Int64},Tuple{Base.Slice{Base.OneTo{Int64}},Int64},false}})\nClosest candidates are:\n  zero(!Matched::Type{Missing}) at missing.jl:103\n  zero(!Matched::Type{LibGit2.GitHash}) at /home/zach/Documents/github/julia/usr/share/julia/stdlib/v1.4/LibGit2/src/oid.jl:220\n  zero(!Matched::Type{Pkg.Resolve.VersionWeights.VersionWeight}) at /home/zach/Documents/github/julia/usr/share/julia/stdlib/v1.4/Pkg/src/resolve/VersionWeights.jl:19\n  ...",
      "",
      "Stacktrace:",
      " [1] _zeros_eltypes at /home/zach/Documents/github/julia/usr/share/julia/stdlib/v1.4/SparseArrays/src/higherorderfns.jl:204 [inlined]",
      " [2] _noshapecheck_map(::Base.Broadcast.var\"##31#32\"{Base.Iterators.Pairs{Symbol,Bool,Tuple{Symbol},NamedTuple{(:trim,),Tuple{Bool}}},typeof(droptol!)}, ::SparseVector{SubArray{Float64,1,SparseMatrixCSC{Float64,Int64},Tuple{Base.Slice{Base.OneTo{Int64}},Int64},false},Int64}, ::SparseVector{Float64,Int64}) at /home/zach/Documents/github/julia/usr/share/julia/stdlib/v1.4/SparseArrays/src/higherorderfns.jl:159",
      " [3] _shapecheckbc(::Function, ::SparseVector{SubArray{Float64,1,SparseMatrixCSC{Float64,Int64},Tuple{Base.Slice{Base.OneTo{Int64}},Int64},false},Int64}, ::Vararg{Any,N} where N) at /home/zach/Documents/github/julia/usr/share/julia/stdlib/v1.4/SparseArrays/src/higherorderfns.jl:1025",
      " [4] _copy(::Function, ::SparseVector{SubArray{Float64,1,SparseMatrixCSC{Float64,Int64},Tuple{Base.Slice{Base.OneTo{Int64}},Int64},false},Int64}, ::SparseVector{Float64,Int64}) at /home/zach/Documents/github/julia/usr/share/julia/stdlib/v1.4/SparseArrays/src/higherorderfns.jl:1014",
      " [5] copy(::Base.Broadcast.Broadcasted{SparseArrays.HigherOrderFns.PromoteToSparse,Tuple{Base.OneTo{Int64}},Base.Broadcast.var\"##31#32\"{Base.Iterators.Pairs{Symbol,Bool,Tuple{Symbol},NamedTuple{(:trim,),Tuple{Bool}}},typeof(droptol!)},Tuple{Array{SubArray{Float64,1,SparseMatrixCSC{Float64,Int64},Tuple{Base.Slice{Base.OneTo{Int64}},Int64},false},1},SparseVector{Float64,Int64}}}) at /home/zach/Documents/github/julia/usr/share/julia/stdlib/v1.4/SparseArrays/src/higherorderfns.jl:1131",
      " [6] materialize(::Base.Broadcast.Broadcasted{SparseArrays.HigherOrderFns.PromoteToSparse,Nothing,Base.Broadcast.var\"##31#32\"{Base.Iterators.Pairs{Symbol,Bool,Tuple{Symbol},NamedTuple{(:trim,),Tuple{Bool}}},typeof(droptol!)},Tuple{Array{SubArray{Float64,1,SparseMatrixCSC{Float64,Int64},Tuple{Base.Slice{Base.OneTo{Int64}},Int64},false},1},SparseVector{Float64,Int64}}}) at ./broadcast.jl:819",
      " [7] top-level scope at In[32]:2"
     ]
    }
   ],
   "source": [
    "tol = sort(x, rev=true, dims=1)[3,:]\n",
    "droptol!.(eachcol(x), tol, trim=false)"
   ]
  },
  {
   "cell_type": "code",
   "execution_count": 29,
   "metadata": {
    "Collapsed": "false"
   },
   "outputs": [
    {
     "data": {
      "text/plain": [
       "10×10 reshape(::SparseVector{Float64,Int64}, 10, 10) with eltype Float64:\n",
       " 0.785661  0.918646  0.880077  0.87109    …  0.974644   0.69137    0.916640\n",
       " 0.481696  0.738618  0.835063  0.767706      0.691467   0.687730   0.852506\n",
       " 0.433411  0.213469  0.754223  0.438367      0.478873   0.645357   0.606341\n",
       " 0.162710  0.20967   0.0       0.231425      0.468702   0.451766   0.602821\n",
       " 0.132278  0.107042  0.0       0.219482      0.225754   0.0622863  0.0393753\n",
       " 0.0       0.0       0.0       0.0827603  …  0.0716528  0.0503620  0.0\n",
       " 0.0       0.0       0.0       0.0562986     0.0        0.0        0.0\n",
       " 0.0       0.0       0.0       0.0           0.0        0.0        0.0\n",
       " 0.0       0.0       0.0       0.0           0.0        0.0        0.0\n",
       " 0.0       0.0       0.0       0.0           0.0        0.0        0.0"
      ]
     },
     "execution_count": 29,
     "metadata": {},
     "output_type": "execute_result"
    }
   ],
   "source": [
    "sort(x, rev=true, dims=1)"
   ]
  },
  {
   "cell_type": "code",
   "execution_count": 26,
   "metadata": {
    "Collapsed": "false"
   },
   "outputs": [
    {
     "ename": "DimensionMismatch",
     "evalue": "DimensionMismatch(\"argument shapes must match\")",
     "output_type": "error",
     "traceback": [
      "DimensionMismatch(\"argument shapes must match\")",
      "",
      "Stacktrace:",
      " [1] _checksameshape at /home/zach/Documents/github/julia/usr/share/julia/stdlib/v1.4/SparseArrays/src/higherorderfns.jl:210 [inlined]",
      " [2] map at /home/zach/Documents/github/julia/usr/share/julia/stdlib/v1.4/SparseArrays/src/higherorderfns.jl:1152 [inlined]",
      " [3] + at /home/zach/Documents/github/julia/usr/share/julia/stdlib/v1.4/SparseArrays/src/sparsematrix.jl:1644 [inlined]",
      " [4] sptopk(::SparseMatrixCSC{Float64,Int64}, ::Int64) at ./In[25]:1",
      " [5] top-level scope at In[26]:1"
     ]
    }
   ],
   "source": [
    "sptopk(x, 3)"
   ]
  },
  {
   "cell_type": "code",
   "execution_count": 23,
   "metadata": {
    "Collapsed": "false"
   },
   "outputs": [
    {
     "name": "stdout",
     "output_type": "stream",
     "text": [
      "search: \u001b[0m\u001b[1ms\u001b[22m\u001b[0m\u001b[1mp\u001b[22m\u001b[0m\u001b[1mz\u001b[22m\u001b[0m\u001b[1me\u001b[22m\u001b[0m\u001b[1mr\u001b[22m\u001b[0m\u001b[1mo\u001b[22m\u001b[0m\u001b[1ms\u001b[22m\n",
      "\n"
     ]
    },
    {
     "data": {
      "text/latex": [
       "\\begin{verbatim}\n",
       "spzeros([type,]m[,n])\n",
       "\\end{verbatim}\n",
       "Create a sparse vector of length \\texttt{m} or sparse matrix of size \\texttt{m x n}. This sparse array will not contain any nonzero values. No storage will be allocated for nonzero values during construction. The type defaults to \\href{@ref}{\\texttt{Float64}} if not specified.\n",
       "\n",
       "\\section{Examples}\n",
       "\\begin{verbatim}\n",
       "julia> spzeros(3, 3)\n",
       "3×3 SparseMatrixCSC{Float64,Int64} with 0 stored entries\n",
       "\n",
       "julia> spzeros(Float32, 4)\n",
       "4-element SparseVector{Float32,Int64} with 0 stored entries\n",
       "\\end{verbatim}\n"
      ],
      "text/markdown": [
       "```\n",
       "spzeros([type,]m[,n])\n",
       "```\n",
       "\n",
       "Create a sparse vector of length `m` or sparse matrix of size `m x n`. This sparse array will not contain any nonzero values. No storage will be allocated for nonzero values during construction. The type defaults to [`Float64`](@ref) if not specified.\n",
       "\n",
       "# Examples\n",
       "\n",
       "```jldoctest\n",
       "julia> spzeros(3, 3)\n",
       "3×3 SparseMatrixCSC{Float64,Int64} with 0 stored entries\n",
       "\n",
       "julia> spzeros(Float32, 4)\n",
       "4-element SparseVector{Float32,Int64} with 0 stored entries\n",
       "```\n"
      ],
      "text/plain": [
       "\u001b[36m  spzeros([type,]m[,n])\u001b[39m\n",
       "\n",
       "  Create a sparse vector of length \u001b[36mm\u001b[39m or sparse matrix of size \u001b[36mm x n\u001b[39m. This\n",
       "  sparse array will not contain any nonzero values. No storage will be\n",
       "  allocated for nonzero values during construction. The type defaults to\n",
       "  \u001b[36mFloat64\u001b[39m if not specified.\n",
       "\n",
       "\u001b[1m  Examples\u001b[22m\n",
       "\u001b[1m  ≡≡≡≡≡≡≡≡≡≡\u001b[22m\n",
       "\n",
       "\u001b[36m  julia> spzeros(3, 3)\u001b[39m\n",
       "\u001b[36m  3×3 SparseMatrixCSC{Float64,Int64} with 0 stored entries\u001b[39m\n",
       "\u001b[36m  \u001b[39m\n",
       "\u001b[36m  julia> spzeros(Float32, 4)\u001b[39m\n",
       "\u001b[36m  4-element SparseVector{Float32,Int64} with 0 stored entries\u001b[39m"
      ]
     },
     "execution_count": 23,
     "metadata": {},
     "output_type": "execute_result"
    }
   ],
   "source": [
    "?spzeros"
   ]
  },
  {
   "cell_type": "code",
   "execution_count": null,
   "metadata": {
    "Collapsed": "false"
   },
   "outputs": [],
   "source": []
  }
 ],
 "metadata": {
  "kernelspec": {
   "display_name": "Julia 1.4.0-DEV",
   "language": "julia",
   "name": "julia-1.4"
  },
  "language_info": {
   "file_extension": ".jl",
   "mimetype": "application/julia",
   "name": "julia",
   "version": "1.4.0"
  },
  "widgets": {
   "application/vnd.jupyter.widget-state+json": {
    "state": {},
    "version_major": 2,
    "version_minor": 0
   }
  }
 },
 "nbformat": 4,
 "nbformat_minor": 4
}
